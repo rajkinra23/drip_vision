{
 "cells": [
  {
   "cell_type": "code",
   "execution_count": 167,
   "metadata": {},
   "outputs": [],
   "source": [
    "import json\n",
    "\n",
    "import matplotlib.pyplot as plt\n",
    "import mxnet as mx\n",
    "from mxnet import gluon, nd, npx, init\n",
    "from mxnet.gluon.model_zoo import vision\n",
    "import numpy as np\n",
    "%matplotlib inline"
   ]
  },
  {
   "cell_type": "code",
   "execution_count": 168,
   "metadata": {},
   "outputs": [
    {
     "name": "stdout",
     "output_type": "stream",
     "text": [
      "['AlexNet', 'BasicBlockV1', 'BasicBlockV2', 'BottleneckV1', 'BottleneckV2', 'DenseNet', 'Inception3', 'MobileNet', 'MobileNetV2', 'ResNetV1', 'ResNetV2', 'SqueezeNet', 'VGG', '__builtins__', '__cached__', '__doc__', '__file__', '__loader__', '__name__', '__package__', '__path__', '__spec__', 'alexnet', 'densenet', 'densenet121', 'densenet161', 'densenet169', 'densenet201', 'get_mobilenet', 'get_mobilenet_v2', 'get_model', 'get_resnet', 'get_vgg', 'inception', 'inception_v3', 'mobilenet', 'mobilenet0_25', 'mobilenet0_5', 'mobilenet0_75', 'mobilenet1_0', 'mobilenet_v2_0_25', 'mobilenet_v2_0_5', 'mobilenet_v2_0_75', 'mobilenet_v2_1_0', 'resnet', 'resnet101_v1', 'resnet101_v2', 'resnet152_v1', 'resnet152_v2', 'resnet18_v1', 'resnet18_v2', 'resnet34_v1', 'resnet34_v2', 'resnet50_v1', 'resnet50_v2', 'squeezenet', 'squeezenet1_0', 'squeezenet1_1', 'vgg', 'vgg11', 'vgg11_bn', 'vgg13', 'vgg13_bn', 'vgg16', 'vgg16_bn', 'vgg19', 'vgg19_bn']\n"
     ]
    }
   ],
   "source": [
    "# We set the context to CPU, you can switch to GPU if you have one and installed a compatible version of MXNet\n",
    "ctx = mx.gpu()\n",
    "print(dir(vision))"
   ]
  },
  {
   "cell_type": "code",
   "execution_count": 169,
   "metadata": {},
   "outputs": [],
   "source": [
    "vgg = vision.vgg16(pretrained=True, ctx=ctx)"
   ]
  },
  {
   "cell_type": "code",
   "execution_count": 170,
   "metadata": {},
   "outputs": [
    {
     "name": "stdout",
     "output_type": "stream",
     "text": [
      "vgg5_conv0_ (\n",
      "  Parameter vgg5_conv0_weight (shape=(64, 3, 3, 3), dtype=<class 'numpy.float32'>)\n",
      "  Parameter vgg5_conv0_bias (shape=(64,), dtype=<class 'numpy.float32'>)\n",
      ")\n"
     ]
    }
   ],
   "source": [
    "print(vgg.features[0].params)"
   ]
  },
  {
   "cell_type": "code",
   "execution_count": 171,
   "metadata": {},
   "outputs": [
    {
     "name": "stdout",
     "output_type": "stream",
     "text": [
      "Dense(4096 -> 1000, linear)\n"
     ]
    }
   ],
   "source": [
    "print(vgg.output)"
   ]
  },
  {
   "cell_type": "code",
   "execution_count": 202,
   "metadata": {},
   "outputs": [],
   "source": [
    "# Make vggs last layer an encoder to basically use for siamese loss.\n",
    "EMBEDDING_DIMENSIONS = 128\n",
    "with vgg.name_scope():\n",
    "    vgg.output = gluon.nn.Dense(EMBEDDING_DIMENSIONS)\n",
    "    vgg.output.initialize(init.Xavier(), ctx=ctx)"
   ]
  },
  {
   "cell_type": "code",
   "execution_count": 203,
   "metadata": {},
   "outputs": [
    {
     "name": "stdout",
     "output_type": "stream",
     "text": [
      "vgg5_dense10_ (\n",
      "  Parameter vgg5_dense10_weight (shape=(128, 0), dtype=float32)\n",
      "  Parameter vgg5_dense10_bias (shape=(128,), dtype=float32)\n",
      ")\n"
     ]
    }
   ],
   "source": [
    "# Verify that this worked\n",
    "print(vgg.output.params)"
   ]
  },
  {
   "cell_type": "code",
   "execution_count": 204,
   "metadata": {},
   "outputs": [
    {
     "name": "stdout",
     "output_type": "stream",
     "text": [
      "Dense(None -> 128, linear)\n"
     ]
    }
   ],
   "source": [
    "vgg.collect_params()\n",
    "print(vgg.output)"
   ]
  },
  {
   "cell_type": "code",
   "execution_count": 205,
   "metadata": {},
   "outputs": [],
   "source": [
    "import os"
   ]
  },
  {
   "cell_type": "code",
   "execution_count": 206,
   "metadata": {},
   "outputs": [
    {
     "data": {
      "text/plain": [
       "['.ipynb_checkpoints',\n",
       " 'test_image.jpg',\n",
       " 'image_net_labels.json',\n",
       " 'model_playground.ipynb']"
      ]
     },
     "execution_count": 206,
     "metadata": {},
     "output_type": "execute_result"
    }
   ],
   "source": [
    "os.listdir(\".\")"
   ]
  },
  {
   "cell_type": "code",
   "execution_count": 207,
   "metadata": {},
   "outputs": [
    {
     "data": {
      "text/plain": [
       "<matplotlib.image.AxesImage at 0x7f01b41968d0>"
      ]
     },
     "execution_count": 207,
     "metadata": {},
     "output_type": "execute_result"
    },
    {
     "data": {
      "image/png": "[encoded data removed]",
      "text/plain": [
       "<Figure size 432x288 with 1 Axes>"
      ]
     },
     "metadata": {
      "needs_background": "light"
     },
     "output_type": "display_data"
    }
   ],
   "source": [
    "image = mx.image.imread('test_image.jpg')\n",
    "plt.imshow(image.asnumpy())"
   ]
  },
  {
   "cell_type": "code",
   "execution_count": 208,
   "metadata": {},
   "outputs": [],
   "source": [
    "def transform(image):\n",
    "    resized = mx.image.resize_short(image, 224)\n",
    "    cropped, crop_info = mx.image.center_crop(resized, (224, 224))\n",
    "    normalized = mx.image.color_normalize(cropped.astype(np.float32)/255,\n",
    "                                      mean=mx.nd.array([0.485, 0.456, 0.406]),\n",
    "                                      std=mx.nd.array([0.229, 0.224, 0.225]))\n",
    "    transposed = normalized.transpose((2,0,1)) \n",
    "    batchified = transposed.expand_dims(axis=0)\n",
    "    return batchified.copyto(ctx)"
   ]
  },
  {
   "cell_type": "code",
   "execution_count": 209,
   "metadata": {},
   "outputs": [
    {
     "name": "stdout",
     "output_type": "stream",
     "text": [
      "cpu(0)\n"
     ]
    }
   ],
   "source": [
    "print(image.context)"
   ]
  },
  {
   "cell_type": "code",
   "execution_count": 210,
   "metadata": {},
   "outputs": [
    {
     "name": "stdout",
     "output_type": "stream",
     "text": [
      "cpu(0)\n"
     ]
    }
   ],
   "source": [
    "print(mx.current_context())"
   ]
  },
  {
   "cell_type": "code",
   "execution_count": 211,
   "metadata": {},
   "outputs": [
    {
     "data": {
      "text/plain": [
       "\n",
       "[[[[2.2489083 2.2489083 2.2489083 ... 2.2489083 2.2489083 2.2489083]\n",
       "   [2.2489083 2.2489083 2.2489083 ... 2.2489083 2.2489083 2.2489083]\n",
       "   [2.2489083 2.2489083 2.2489083 ... 2.2489083 2.2489083 2.2489083]\n",
       "   ...\n",
       "   [2.2489083 2.2489083 2.2489083 ... 2.2489083 2.2489083 2.2489083]\n",
       "   [2.2489083 2.2489083 2.2489083 ... 2.2489083 2.2489083 2.2489083]\n",
       "   [2.2489083 2.2489083 2.2489083 ... 2.2489083 2.2489083 2.2489083]]\n",
       "\n",
       "  [[2.4285715 2.4285715 2.4285715 ... 2.4285715 2.4285715 2.4285715]\n",
       "   [2.4285715 2.4285715 2.4285715 ... 2.4285715 2.4285715 2.4285715]\n",
       "   [2.4285715 2.4285715 2.4285715 ... 2.4285715 2.4285715 2.4285715]\n",
       "   ...\n",
       "   [2.4285715 2.4285715 2.4285715 ... 2.4285715 2.4285715 2.4285715]\n",
       "   [2.4285715 2.4285715 2.4285715 ... 2.4285715 2.4285715 2.4285715]\n",
       "   [2.4285715 2.4285715 2.4285715 ... 2.4285715 2.4285715 2.4285715]]\n",
       "\n",
       "  [[2.64      2.64      2.64      ... 2.64      2.64      2.64     ]\n",
       "   [2.64      2.64      2.64      ... 2.64      2.64      2.64     ]\n",
       "   [2.64      2.64      2.64      ... 2.64      2.64      2.64     ]\n",
       "   ...\n",
       "   [2.64      2.64      2.64      ... 2.64      2.64      2.64     ]\n",
       "   [2.64      2.64      2.64      ... 2.64      2.64      2.64     ]\n",
       "   [2.64      2.64      2.64      ... 2.64      2.64      2.64     ]]]]\n",
       "<NDArray 1x3x224x224 @gpu(0)>"
      ]
     },
     "execution_count": 211,
     "metadata": {},
     "output_type": "execute_result"
    }
   ],
   "source": [
    "transform(image)"
   ]
  },
  {
   "cell_type": "code",
   "execution_count": 212,
   "metadata": {},
   "outputs": [],
   "source": [
    "predictions = vgg(transform(image)).softmax()"
   ]
  },
  {
   "cell_type": "code",
   "execution_count": 213,
   "metadata": {},
   "outputs": [
    {
     "name": "stdout",
     "output_type": "stream",
     "text": [
      "\n",
      "[[0.00397217 0.00387902 0.0046927  0.01048971 0.00133483 0.01257553\n",
      "  0.00365347 0.00808606 0.00307186 0.01704661 0.05030661 0.00473288\n",
      "  0.00896621 0.01266661 0.00416322 0.00656319 0.00067896 0.00849348\n",
      "  0.00721225 0.00394471 0.01718093 0.01180057 0.00603574 0.0062719\n",
      "  0.00561659 0.00534862 0.00546986 0.0103836  0.00168146 0.00519626\n",
      "  0.00621241 0.00346943 0.00869936 0.00622293 0.02670071 0.00264273\n",
      "  0.00311211 0.0389041  0.01356044 0.00421035 0.00207448 0.00227636\n",
      "  0.03095111 0.0047677  0.01287394 0.00362899 0.02028182 0.02910264\n",
      "  0.00654523 0.02209085 0.00582267 0.0046075  0.0011112  0.00291411\n",
      "  0.00327307 0.00137402 0.00207906 0.00418996 0.00790196 0.00923455\n",
      "  0.00362674 0.01027909 0.00483338 0.00808929 0.01291613 0.00297576\n",
      "  0.00330268 0.00257568 0.0049103  0.00173158 0.00343029 0.00231462\n",
      "  0.00742213 0.00626257 0.00957862 0.0017351  0.00672982 0.0049093\n",
      "  0.00707173 0.01118234 0.0038966  0.00595376 0.00470121 0.02604569\n",
      "  0.01837807 0.00956566 0.00469187 0.00549799 0.00266675 0.00059384\n",
      "  0.00563637 0.00575732 0.01243399 0.00935114 0.01482084 0.00419762\n",
      "  0.00447938 0.00719334 0.00831635 0.00271578 0.00563109 0.00818069\n",
      "  0.00860162 0.00965787 0.00588027 0.00738474 0.00534029 0.0022265\n",
      "  0.00195001 0.00671605 0.00127716 0.01011257 0.01091709 0.00413164\n",
      "  0.00436475 0.00196473 0.00515748 0.00796557 0.00734369 0.01996025\n",
      "  0.01267593 0.00290721 0.0010564  0.00375775 0.00666275 0.00226718\n",
      "  0.01687671 0.00390995]]\n",
      "<NDArray 1x128 @gpu(0)>\n"
     ]
    }
   ],
   "source": [
    "print(predictions)"
   ]
  },
  {
   "cell_type": "code",
   "execution_count": null,
   "metadata": {},
   "outputs": [],
   "source": [
    "\"\"\"\n",
    "Let's start trying to build the siamese network trainer. First, initialize two networks with a different\n",
    "last layer.\n",
    "\"\"\"\n"
   ]
  }
 ],
 "metadata": {
  "kernelspec": {
   "display_name": "Python 3",
   "language": "python",
   "name": "python3"
  },
  "language_info": {
   "codemirror_mode": {
    "name": "ipython",
    "version": 3
   },
   "file_extension": ".py",
   "mimetype": "text/x-python",
   "name": "python",
   "nbconvert_exporter": "python",
   "pygments_lexer": "ipython3",
   "version": "3.6.9"
  }
 },
 "nbformat": 4,
 "nbformat_minor": 4
}
