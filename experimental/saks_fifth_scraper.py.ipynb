{
 "cells": [
  {
   "cell_type": "code",
   "execution_count": 1,
   "metadata": {},
   "outputs": [],
   "source": [
    "ROOT = 'https://www.saksfifthavenue.com/Men/Apparel/T-Shirts/shop/_/N-52kmqv/Ne-6lvnb5?FOLDER%3C%3Efolder_id=2534374306652711&Nao={}'"
   ]
  },
  {
   "cell_type": "code",
   "execution_count": 2,
   "metadata": {},
   "outputs": [],
   "source": [
    "OFFSETS = [0, 150, 300, 450, 600]"
   ]
  },
  {
   "cell_type": "code",
   "execution_count": 3,
   "metadata": {},
   "outputs": [
    {
     "data": {
      "text/plain": [
       "'https://www.saksfifthavenue.com/Men/Apparel/T-Shirts/shop/_/N-52kmqv/Ne-6lvnb5?FOLDER%3C%3Efolder_id=2534374306652711&Nao=600'"
      ]
     },
     "execution_count": 3,
     "metadata": {},
     "output_type": "execute_result"
    }
   ],
   "source": [
    "ROOT.format(OFFSETS[-1])"
   ]
  },
  {
   "cell_type": "code",
   "execution_count": 4,
   "metadata": {},
   "outputs": [],
   "source": [
    "DATASET_ROOT_DESTINATION = \"/home/rajkinra23/git/drip_vision/data/scraped_dataset/\"\n",
    "DATASET_TMP_DESTINATION = \"/tmp/scraped_dataset/\""
   ]
  },
  {
   "cell_type": "code",
   "execution_count": 24,
   "metadata": {},
   "outputs": [],
   "source": [
    "import requests\n",
    "from bs4 import BeautifulSoup\n",
    "\n",
    "# Parent directory import\n",
    "import sys\n",
    "sys.path.append('/home/rajkinra23/git/drip_vision/')\n",
    "from models import model_api\n",
    "from data.data_loaders import LABELS"
   ]
  },
  {
   "cell_type": "code",
   "execution_count": 6,
   "metadata": {},
   "outputs": [
    {
     "name": "stdout",
     "output_type": "stream",
     "text": [
      "https://www.saksfifthavenue.com/Men/Apparel/T-Shirts/shop/_/N-52kmqv/Ne-6lvnb5?FOLDER%3C%3Efolder_id=2534374306652711&Nao=0\n"
     ]
    }
   ],
   "source": [
    "# Headers \n",
    "agent = {\"user-agent\":\n",
    "         \"Mozilla/5.0 (X11; Linux x86_64) AppleWebKit/537.36 (KHTML, like Gecko) Chrome/80.0.3987.122 Safari/537.36\"}\n",
    "\n",
    "# Send request\n",
    "url = ROOT.format(0)\n",
    "print(url)\n",
    "resp = requests.get(url, headers=agent)\n",
    "soup = BeautifulSoup(resp.content, 'html.parser')"
   ]
  },
  {
   "cell_type": "code",
   "execution_count": 7,
   "metadata": {},
   "outputs": [],
   "source": [
    "import re\n",
    "from bs4 import BeautifulSoup, SoupStrainer\n",
    "\n",
    "\"\"\"\n",
    "In this step, build a list of search links\n",
    "\"\"\"\n",
    "\n",
    "SHIRT_LINKS = set()\n",
    "\n",
    "for offset in OFFSETS:\n",
    "    url = ROOT.format(offset)\n",
    "    resp = requests.get(url, headers=agent)\n",
    "    soup = BeautifulSoup(resp.content, 'html.parser')\n",
    "    for link in soup.findAll('a', attrs={'href': re.compile(\"/product\")}):\n",
    "        l = link.get('href')\n",
    "        if 'product' in l:\n",
    "            SHIRT_LINKS.add(l)\n",
    "\n",
    "SHIRT_LINKS = list(SHIRT_LINKS)"
   ]
  },
  {
   "cell_type": "code",
   "execution_count": 8,
   "metadata": {},
   "outputs": [
    {
     "name": "stdout",
     "output_type": "stream",
     "text": [
      "74\n"
     ]
    }
   ],
   "source": [
    "print(len(SHIRT_LINKS))"
   ]
  },
  {
   "cell_type": "code",
   "execution_count": 21,
   "metadata": {},
   "outputs": [
    {
     "name": "stdout",
     "output_type": "stream",
     "text": [
      "/product/theory-mattis-studio-waffle-knit-t-shirt-0400018021844.html?dwvar_0400018021844_color=IVORY\n"
     ]
    },
    {
     "data": {
      "text/plain": [
       "[<__main__.ImageMetadata at 0x7fa597c35a30>,\n",
       " <__main__.ImageMetadata at 0x7fa5947943a0>,\n",
       " <__main__.ImageMetadata at 0x7fa5947941f0>,\n",
       " <__main__.ImageMetadata at 0x7fa5947946d0>,\n",
       " <__main__.ImageMetadata at 0x7fa594794040>]"
      ]
     },
     "execution_count": 21,
     "metadata": {},
     "output_type": "execute_result"
    }
   ],
   "source": [
    "# Mess around with getting shirt images\n",
    "import json\n",
    "\n",
    "\"\"\"\n",
    "Build function to generate all of the image links.\n",
    "\"\"\"\n",
    "\n",
    "# Class to store image metadata\n",
    "class ImageMetadata(object):\n",
    "    def __init__(self, image_url, pid):\n",
    "        self.image_url = image_url\n",
    "        self.pid = pid\n",
    "\n",
    "\n",
    "# Get the shirt link from the product page.\n",
    "def get_image_links(shirt_link):\n",
    "    # Get link\n",
    "    shirt_link = f\"https://www.saksfifthavenue.com/{shirt_link}\"\n",
    "    resp = requests.get(shirt_link, headers=agent)\n",
    "    soup = BeautifulSoup(resp.content, 'html.parser')\n",
    "\n",
    "    # Metadata container\n",
    "    out = []\n",
    "\n",
    "    # For each link, populate metadata\n",
    "    for link in soup.find_all('div', {\"class\": \"primary-image\"}):\n",
    "        for image in link.findAll('img'):\n",
    "            product_id = image.attrs[\"data-adobelaunchfullsizeimageproductid\"]\n",
    "            image_url = image.attrs[\"src\"]\n",
    "            out.append(ImageMetadata(image_url, product_id))\n",
    "\n",
    "    # Return metadata\n",
    "    return out\n",
    "\n",
    "\n",
    "\"\"\"\n",
    "Let's give this a test drive.\n",
    "\"\"\"\n",
    "print(SHIRT_LINKS[0])\n",
    "get_image_links(SHIRT_LINKS[0])\n"
   ]
  },
  {
   "cell_type": "code",
   "execution_count": 10,
   "metadata": {},
   "outputs": [
    {
     "name": "stdout",
     "output_type": "stream",
     "text": [
      "False\n"
     ]
    }
   ],
   "source": [
    "import os\n",
    "\n",
    "os.listdir(\".\")\n",
    "print(os.path.isdir(\"dataset\"))"
   ]
  },
  {
   "cell_type": "code",
   "execution_count": 26,
   "metadata": {
    "scrolled": true
   },
   "outputs": [
    {
     "name": "stdout",
     "output_type": "stream",
     "text": [
      "Using checkpoint: f/home/rajkinra23/git/drip_vision/models/efficientdet_checkpoints/epoch=9-step=239949.ckpt\n",
      "{'name': 'tf_efficientnetv2_l', 'backbone_name': 'tf_efficientnetv2_l', 'backbone_args': {'drop_path_rate': 0.2}, 'backbone_indices': None, 'image_size': [512, 512], 'num_classes': 1, 'min_level': 3, 'max_level': 7, 'num_levels': 5, 'num_scales': 3, 'aspect_ratios': [[1.0, 1.0], [1.4, 0.7], [0.7, 1.4]], 'anchor_scale': 4.0, 'pad_type': 'same', 'act_type': 'swish', 'norm_layer': None, 'norm_kwargs': {'eps': 0.001, 'momentum': 0.01}, 'box_class_repeats': 3, 'fpn_cell_repeats': 3, 'fpn_channels': 88, 'separable_conv': True, 'apply_resample_bn': True, 'conv_bn_relu_pattern': False, 'downsample_type': 'max', 'upsample_type': 'nearest', 'redundant_bias': True, 'head_bn_level_first': False, 'head_act_type': None, 'fpn_name': None, 'fpn_config': None, 'fpn_drop_path_rate': 0.0, 'alpha': 0.25, 'gamma': 1.5, 'label_smoothing': 0.0, 'legacy_focal': False, 'jit_loss': False, 'delta': 0.1, 'box_loss_weight': 50.0, 'soft_nms': False, 'max_detection_points': 5000, 'max_det_per_image': 100, 'url': ''}\n",
      "Writing images to: /home/rajkinra23/git/drip_vision/data/scraped_dataset/0400018021844\n",
      "<class 'urllib3.response.HTTPResponse'>\n",
      "3\n",
      "<class 'urllib3.response.HTTPResponse'>\n",
      "3\n",
      "<class 'urllib3.response.HTTPResponse'>\n",
      "3\n",
      "<class 'urllib3.response.HTTPResponse'>\n",
      "3\n",
      "<class 'urllib3.response.HTTPResponse'>\n",
      "3\n"
     ]
    },
    {
     "data": {
      "text/plain": [
       "True"
      ]
     },
     "execution_count": 26,
     "metadata": {},
     "output_type": "execute_result"
    }
   ],
   "source": [
    "\"\"\"\n",
    "Let's write a utility to download an image.\n",
    "\"\"\"\n",
    "\n",
    "import requests # to get image from the web\n",
    "import shutil # to save it locally\n",
    "import os\n",
    "from PIL import Image\n",
    "\n",
    "# Initialize model api\n",
    "detector = model_api.EfficientDetAPI()\n",
    "classifier = model_api.ClipAPI()\n",
    "\n",
    "def write_image_to_disk(image_url, dst):    \n",
    "    #Set up the image URL and filename\n",
    "    filename = image_url.split(\"/\")[-1]\n",
    "    jpeg_name = os.path.split(dst)[-1]\n",
    "\n",
    "    # Open the url image, set stream to True, this will return the stream content.\n",
    "    r = requests.get(image_url, stream = True)\n",
    "\n",
    "    # Check if the image was retrieved successfully\n",
    "    if r.status_code == 200:\n",
    "        # Set decode_content value to True, otherwise the downloaded image file's size will be zero.\n",
    "        r.raw.decode_content = True\n",
    "\n",
    "        # Write img to tmp directory\n",
    "        temp_jpeg = os.path.join(DATASET_TMP_DESTINATION, jpeg_name)\n",
    "        with open(temp_jpeg, 'wb') as f:\n",
    "            print(type(r.raw))\n",
    "            shutil.copyfileobj(r.raw, f)\n",
    "            \n",
    "        # Use model API to determine if the image actually contains relevant content\n",
    "        detections = detector.detect(temp_jpeg)\n",
    "        if detections:\n",
    "            print(classifier.rank_labels(Image.open(temp_jpeg).convert(\"RGB\"), LABELS))\n",
    "        \n",
    "    else:\n",
    "        print('Image Couldn\\'t be retreived')\n",
    "        \n",
    "def write_image_set_to_disk(image_set, root=None, dry_run=False, overwrite=True):\n",
    "    # Declare root for all images\n",
    "    if not root:\n",
    "        root = DATASET_ROOT_DESTINATION\n",
    "    \n",
    "    # Create the directory for the image set, if it doesn't already exist.\n",
    "    image_set_root = os.path.join(root, image_set[0].pid)\n",
    "    dir_exists = os.path.exists(image_set_root)\n",
    "    if overwrite or not dir_exists:\n",
    "        # Write image root dir.\n",
    "        print(\"Writing images to: {}\".format(image_set_root))\n",
    "        if not dir_exists:\n",
    "            os.mkdir(image_set_root)\n",
    "\n",
    "        # Write images\n",
    "        counter = 0\n",
    "        for image_metadata in image_set:\n",
    "            img = f\"{image_metadata.pid}_A{counter}.jpg\"\n",
    "            dst = os.path.join(image_set_root, img)\n",
    "            if not dry_run:\n",
    "                write_image_to_disk(image_metadata.image_url, dst)\n",
    "            counter += 1\n",
    "\n",
    "        # Return that we wrote images\n",
    "        return True\n",
    "\n",
    "    # Otherwise, we skip.\n",
    "    else:\n",
    "        print(\"Images already written to: {}\".format(image_set_root))\n",
    "        return False\n",
    "            \n",
    "# Test drive it\n",
    "# write_image_set_to_disk(get_image_links(SHIRT_LINKS[0]))\n",
    "image_metadata = get_image_links(SHIRT_LINKS[0])\n",
    "write_image_set_to_disk(image_metadata, dry_run=False)"
   ]
  },
  {
   "cell_type": "code",
   "execution_count": null,
   "metadata": {},
   "outputs": [],
   "source": [
    "print(links)\n",
    "write_image_set_to_disk(links)"
   ]
  },
  {
   "cell_type": "code",
   "execution_count": null,
   "metadata": {},
   "outputs": [],
   "source": [
    "# We probably want to use some off the shelf detector "
   ]
  },
  {
   "cell_type": "code",
   "execution_count": null,
   "metadata": {},
   "outputs": [],
   "source": [
    "\"\"\"\n",
    "Execute the entire pipeline\n",
    "\"\"\"\n",
    "\n",
    "import time\n",
    "\n",
    "def pipeline():\n",
    "    for shirt_link in SHIRT_LINKS:\n",
    "        image_links, product_id = get_image_links(shirt_link)\n",
    "        if write_image_set_to_disk(image_links, product_id):\n",
    "            time.sleep(2)\n",
    "        print(\"Images downloaded for {}\".format(shirt_link))\n",
    "        \n",
    "pipeline()"
   ]
  },
  {
   "cell_type": "code",
   "execution_count": 1,
   "metadata": {},
   "outputs": [
    {
     "name": "stderr",
     "output_type": "stream",
     "text": [
      "/home/rajkinra23/.local/lib/python3.8/site-packages/tqdm/auto.py:22: TqdmWarning: IProgress not found. Please update jupyter and ipywidgets. See https://ipywidgets.readthedocs.io/en/stable/user_install.html\n",
      "  from .autonotebook import tqdm as notebook_tqdm\n"
     ]
    },
    {
     "name": "stdout",
     "output_type": "stream",
     "text": [
      "/home/rajkinra23/git/drip_vision/models/efficientdet_checkpoints\n"
     ]
    }
   ],
   "source": [
    "# Test model based scraping using our trained detector.\n",
    "\n",
    "import sys\n",
    "sys.path.append('/home/rajkinra23/git/drip_vision')\n",
    "\n",
    "from models.efficient_det_model import load_model, MODEL_CHECKPOINTS_DIR\n",
    "print(MODEL_CHECKPOINTS_DIR)"
   ]
  },
  {
   "cell_type": "code",
   "execution_count": 2,
   "metadata": {},
   "outputs": [
    {
     "name": "stdout",
     "output_type": "stream",
     "text": [
      "/home/rajkinra23/git/drip_vision/models/efficientdet_checkpoints/epoch=9-step=239949.ckpt\n",
      "{'name': 'tf_efficientnetv2_l', 'backbone_name': 'tf_efficientnetv2_l', 'backbone_args': {'drop_path_rate': 0.2}, 'backbone_indices': None, 'image_size': [512, 512], 'num_classes': 1, 'min_level': 3, 'max_level': 7, 'num_levels': 5, 'num_scales': 3, 'aspect_ratios': [[1.0, 1.0], [1.4, 0.7], [0.7, 1.4]], 'anchor_scale': 4.0, 'pad_type': 'same', 'act_type': 'swish', 'norm_layer': None, 'norm_kwargs': {'eps': 0.001, 'momentum': 0.01}, 'box_class_repeats': 3, 'fpn_cell_repeats': 3, 'fpn_channels': 88, 'separable_conv': True, 'apply_resample_bn': True, 'conv_bn_relu_pattern': False, 'downsample_type': 'max', 'upsample_type': 'nearest', 'redundant_bias': True, 'head_bn_level_first': False, 'head_act_type': None, 'fpn_name': None, 'fpn_config': None, 'fpn_drop_path_rate': 0.0, 'alpha': 0.25, 'gamma': 1.5, 'label_smoothing': 0.0, 'legacy_focal': False, 'jit_loss': False, 'delta': 0.1, 'box_loss_weight': 50.0, 'soft_nms': False, 'max_detection_points': 5000, 'max_det_per_image': 100, 'url': ''}\n"
     ]
    }
   ],
   "source": [
    "model = load_model()"
   ]
  },
  {
   "cell_type": "code",
   "execution_count": 3,
   "metadata": {},
   "outputs": [],
   "source": [
    "# Util for prediction\n",
    "def visualize_prediction(image):\n",
    "    img = Image.open(image).convert(\"RGB\")\n",
    "    boxes, labels, confidences = model.predict([img])\n",
    "    boxes = torch.tensor(boxes[0])\n",
    "    labels = labels[0]\n",
    "    return (boxes, labels)"
   ]
  },
  {
   "cell_type": "code",
   "execution_count": 27,
   "metadata": {},
   "outputs": [
    {
     "name": "stdout",
     "output_type": "stream",
     "text": [
      "/product/theory-mattis-studio-waffle-knit-t-shirt-0400018021844.html?dwvar_0400018021844_color=IVORY\n",
      "0400018021844\n",
      "https://image.s5a.com/is/image/saks/0400018021844_IVORY?wid=480&hei=640&qlt=90&resMode=sharp2&op_usm=0.9,1.0,8,0\n",
      "0400018021844\n",
      "https://image.s5a.com/is/image/saks/0400018021844_IVORY_ASTL?wid=984&hei=1312&qlt=90&resMode=sharp2&op_usm=0.9,1.0,8,0\n",
      "0400018021844\n",
      "https://image.s5a.com/is/image/saks/0400018021844_IVORY_A1?wid=480&hei=640&qlt=90&resMode=sharp2&op_usm=0.9,1.0,8,0\n",
      "0400018021844\n",
      "https://image.s5a.com/is/image/saks/0400018021844_IVORY_A2?wid=480&hei=640&qlt=90&resMode=sharp2&op_usm=0.9,1.0,8,0\n",
      "0400018021844\n",
      "https://image.s5a.com/is/image/saks/0400018021844_IVORY_A3?wid=480&hei=640&qlt=90&resMode=sharp2&op_usm=0.9,1.0,8,0\n"
     ]
    }
   ],
   "source": [
    "# Scrape images using detector + CLIP for identifying the right product\n",
    "\n",
    "print(SHIRT_LINKS[0])\n",
    "shirt_link = f\"https://www.saksfifthavenue.com/{SHIRT_LINKS[0]}\"\n",
    "resp = requests.get(shirt_link, headers=agent)\n",
    "soup = BeautifulSoup(resp.content, 'html.parser')\n",
    "for link in soup.find_all('div', {\"class\": \"primary-image\"}):\n",
    "    for image in link.findAll('img'):\n",
    "        # print(image)\n",
    "        print(image.attrs[\"data-adobelaunchfullsizeimageproductid\"])\n",
    "        print(image.attrs[\"src\"])"
   ]
  },
  {
   "cell_type": "code",
   "execution_count": null,
   "metadata": {},
   "outputs": [],
   "source": []
  }
 ],
 "metadata": {
  "kernelspec": {
   "display_name": "Python 3 (ipykernel)",
   "language": "python",
   "name": "python3"
  },
  "language_info": {
   "codemirror_mode": {
    "name": "ipython",
    "version": 3
   },
   "file_extension": ".py",
   "mimetype": "text/x-python",
   "name": "python",
   "nbconvert_exporter": "python",
   "pygments_lexer": "ipython3",
   "version": "3.8.10"
  }
 },
 "nbformat": 4,
 "nbformat_minor": 4
}
