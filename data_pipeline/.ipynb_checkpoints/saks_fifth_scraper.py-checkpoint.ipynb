{
 "cells": [
  {
   "cell_type": "code",
   "execution_count": 1,
   "metadata": {},
   "outputs": [],
   "source": [
    "ROOT = 'https://www.saksfifthavenue.com/Men/Apparel/T-Shirts/shop/_/N-52kmqv/Ne-6lvnb5?FOLDER%3C%3Efolder_id=2534374306652711&Nao={}'"
   ]
  },
  {
   "cell_type": "code",
   "execution_count": 2,
   "metadata": {},
   "outputs": [],
   "source": [
    "OFFSETS = [0, 150, 300, 450]"
   ]
  },
  {
   "cell_type": "code",
   "execution_count": 3,
   "metadata": {},
   "outputs": [
    {
     "data": {
      "text/plain": [
       "'https://www.saksfifthavenue.com/Men/Apparel/T-Shirts/shop/_/N-52kmqv/Ne-6lvnb5?FOLDER%3C%3Efolder_id=2534374306652711&Nao=450'"
      ]
     },
     "execution_count": 3,
     "metadata": {},
     "output_type": "execute_result"
    }
   ],
   "source": [
    "ROOT.format(OFFSETS[-1])"
   ]
  },
  {
   "cell_type": "code",
   "execution_count": 4,
   "metadata": {},
   "outputs": [],
   "source": [
    "import requests\n",
    "from bs4 import BeautifulSoup"
   ]
  },
  {
   "cell_type": "code",
   "execution_count": 5,
   "metadata": {},
   "outputs": [
    {
     "name": "stdout",
     "output_type": "stream",
     "text": [
      "https://www.saksfifthavenue.com/Men/Apparel/T-Shirts/shop/_/N-52kmqv/Ne-6lvnb5?FOLDER%3C%3Efolder_id=2534374306652711&Nao=0\n"
     ]
    }
   ],
   "source": [
    "# Headers \n",
    "agent = {\"user-agent\":\n",
    "         \"Mozilla/5.0 (X11; Linux x86_64) AppleWebKit/537.36 (KHTML, like Gecko) Chrome/80.0.3987.122 Safari/537.36\"}\n",
    "\n",
    "# Send request\n",
    "url = ROOT.format(0)\n",
    "print(url)\n",
    "resp = requests.get(url, headers=agent)\n",
    "soup = BeautifulSoup(resp.content, 'html.parser')"
   ]
  },
  {
   "cell_type": "code",
   "execution_count": 6,
   "metadata": {},
   "outputs": [],
   "source": [
    "import re\n",
    "from bs4 import BeautifulSoup, SoupStrainer\n",
    "\n",
    "\"\"\"\n",
    "In this step, build a list of search links\n",
    "\"\"\"\n",
    "\n",
    "SHIRT_LINKS = set()\n",
    "\n",
    "for link in soup.findAll('a', attrs={'href': re.compile(\"^https://\")}):\n",
    "    l = link.get('href')\n",
    "    if l.startswith('https://www.saksfifthavenue.com/') and 'folder_id' in l:\n",
    "        SHIRT_LINKS.add(l)"
   ]
  },
  {
   "cell_type": "code",
   "execution_count": 7,
   "metadata": {},
   "outputs": [
    {
     "name": "stdout",
     "output_type": "stream",
     "text": [
      "151\n"
     ]
    }
   ],
   "source": [
    "print(len(SHIRT_LINKS))"
   ]
  },
  {
   "cell_type": "code",
   "execution_count": 68,
   "metadata": {},
   "outputs": [],
   "source": [
    "# Mess around with getting shirt images\n",
    "import json\n",
    "\n",
    "resp = requests.get(list(shirt_links)[0], headers=agent)\n",
    "soup = BeautifulSoup(resp.content, 'html.parser')\n",
    "data = json.loads(soup.find('script', type='application/ld+json').text)\n"
   ]
  },
  {
   "cell_type": "code",
   "execution_count": 74,
   "metadata": {},
   "outputs": [
    {
     "name": "stdout",
     "output_type": "stream",
     "text": [
      "//image.s5a.com/is/image/saks/0400012766436\n"
     ]
    }
   ],
   "source": [
    "print(data[0].get('image'))"
   ]
  },
  {
   "cell_type": "code",
   "execution_count": null,
   "metadata": {},
   "outputs": [],
   "source": []
  }
 ],
 "metadata": {
  "kernelspec": {
   "display_name": "Python 3",
   "language": "python",
   "name": "python3"
  },
  "language_info": {
   "codemirror_mode": {
    "name": "ipython",
    "version": 3
   },
   "file_extension": ".py",
   "mimetype": "text/x-python",
   "name": "python",
   "nbconvert_exporter": "python",
   "pygments_lexer": "ipython3",
   "version": "3.6.9"
  }
 },
 "nbformat": 4,
 "nbformat_minor": 4
}
